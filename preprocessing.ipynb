{
 "cells": [
  {
   "cell_type": "markdown",
   "metadata": {},
   "source": [
    "# Diagnosis extraction from medical reports\n",
    "### Kivotova Evgenia, B17-DS-01\n",
    "#### Innopolis University, 2020"
   ]
  },
  {
   "cell_type": "code",
   "execution_count": 36,
   "metadata": {},
   "outputs": [],
   "source": [
    "import pandas as pd\n",
    "from bs4 import BeautifulSoup, NavigableString, Tag\n",
    "from pathlib import Path\n",
    "from typing import List"
   ]
  },
  {
   "cell_type": "markdown",
   "metadata": {},
   "source": [
    "## Datasets paths definition"
   ]
  },
  {
   "cell_type": "code",
   "execution_count": 2,
   "metadata": {},
   "outputs": [],
   "source": [
    "data_dir = Path('datasets')\n",
    "openi_reports = data_dir / \"ecgen-radiology\""
   ]
  },
  {
   "cell_type": "markdown",
   "metadata": {},
   "source": [
    "## OpenI dataset analysis"
   ]
  },
  {
   "cell_type": "markdown",
   "metadata": {},
   "source": [
    "The OpenI reports are stored in `.xml` format with `UTF-8` encoding.\n",
    "\n",
    "The body of each report is stored in `<MedlineCitation>` section, namely `<Abstract>` tag. \n",
    "\n",
    "Each report consists of 4 parts:\n",
    " - `<AbstractText Label=\"COMPARISON\">`- Comparison of the new imaging exam with any available previous exams.\n",
    " - `<AbstractText Label=\"INDICATION\">` - The reason for examination or important patient information\n",
    " - `AbstractText Label=\"FINDINGS\">` - Detailed  descriptions about normal and abnormal findings\n",
    " - `AbstractText Label=\"IMPRESSION\">` - Diseases from Findings and forms a diagnostic conclusion, consisting of abnormal and normal conclusions.\n",
    " \n",
    "Therefore, the **Impression** section is the most valuable one as it contains exact referencies to the diagnosis."
   ]
  },
  {
   "cell_type": "markdown",
   "metadata": {},
   "source": [
    "The other interesting section of this reports is `<MeSH>` tag.\n",
    "\n",
    "**MeSH** stands for Medical Subject Headings, a controlled and hierarchically-organized vocabulary produced by the National Library of Medicine. It is used for indexing, cataloging, and searching of biomedical and health-related information.\n",
    "\n",
    "It seems to have the keywords about full report that are related to the Impression as well as to the general patient description. \n",
    "\n",
    "**BUT!** The `<major>` tag with `normal` value does not overlab with any other tag."
   ]
  },
  {
   "cell_type": "markdown",
   "metadata": {},
   "source": [
    "## Reports parsing using BeautifulSoup"
   ]
  },
  {
   "cell_type": "markdown",
   "metadata": {},
   "source": [
    "In this section the reports are parsed into pandas dataframe, extracting important fields and discarding unnesessary information:"
   ]
  },
  {
   "cell_type": "code",
   "execution_count": 38,
   "metadata": {},
   "outputs": [],
   "source": [
    "def parse_report(path:Path) -> BeautifulSoup:\n",
    "    \n",
    "    # Check if report path exists\n",
    "    if not path.exists():\n",
    "        return None\n",
    "    \n",
    "    \n",
    "    with open(path, 'r') as report_file:\n",
    "        raw_report = report_file.read()\n",
    "        parsed_report = BeautifulSoup(raw_report, \"lxml\")\n",
    "        \n",
    "    return parsed_report"
   ]
  },
  {
   "cell_type": "code",
   "execution_count": 62,
   "metadata": {},
   "outputs": [],
   "source": [
    "def get_abstract_fields(report:BeautifulSoup, labels:List[str]) -> dict:\n",
    "    result = {}\n",
    "    for element in report.find_all('abstracttext'):\n",
    "        label = element.get('label')\n",
    "        if label in labels:\n",
    "            result[label] = element.text\n",
    "    return result"
   ]
  },
  {
   "cell_type": "code",
   "execution_count": 48,
   "metadata": {},
   "outputs": [],
   "source": [
    "def get_mech_tags(report:BeautifulSoup) -> dict:\n",
    "    result = {}\n",
    "    mesh = report.find('mesh')\n",
    "    for element in mesh.children:\n",
    "        if isinstance(element, NavigableString):\n",
    "            continue\n",
    "        if isinstance(element, Tag):\n",
    "            if not element.name in result:\n",
    "                result[element.name] = []\n",
    "            result[element.name].append(element.text)\n",
    "    return result"
   ]
  },
  {
   "cell_type": "code",
   "execution_count": 49,
   "metadata": {},
   "outputs": [],
   "source": [
    "def get_mesh_label(mesh:dict) -> int:\n",
    "    if 'major' in mesh and 'normal' in mesh['major']:\n",
    "        return 0\n",
    "    else:\n",
    "        return 1"
   ]
  },
  {
   "cell_type": "code",
   "execution_count": 59,
   "metadata": {},
   "outputs": [],
   "source": [
    "def parse_dataset(path:Path)-> pd.DataFrame:\n",
    "    \n",
    "    # Check if dataset path exists\n",
    "    if not path.exists():\n",
    "        return None\n",
    "    \n",
    "    columns=['FINDINGS', 'IMPRESSION', 'MeSH', 'LABEL']\n",
    "    \n",
    "    dfs = []\n",
    "    \n",
    "    # Get the list of all files\n",
    "    files = path.glob('**/*')\n",
    "    \n",
    "    for file in files:\n",
    "        \n",
    "        # Process only files\n",
    "        if not file.is_file():\n",
    "            continue\n",
    "            \n",
    "        report = parse_report(file)\n",
    "        \n",
    "        # Parse Abstract section\n",
    "        abstract = get_abstract_fields(report, ['FINDINGS', 'IMPRESSION'])\n",
    "        \n",
    "        findings = abstract['FINDINGS'] if 'FINDINGS' in abstract.keys() else ''\n",
    "        impression = abstract['IMPRESSION'] if 'IMPRESSION' in abstract.keys() else ''\n",
    "        \n",
    "        # Parse mesh\n",
    "        mesh = get_mech_tags(report)\n",
    "        mesh_label = get_mesh_label(mesh)\n",
    "        \n",
    "        dfs.append(pd.DataFrame([[findings, impression, mesh, mesh_label]], columns=columns))\n",
    "        \n",
    "        \n",
    "        \n",
    "    return pd.concat(dfs, ignore_index=True)\n",
    "    \n",
    "    "
   ]
  },
  {
   "cell_type": "code",
   "execution_count": 51,
   "metadata": {
    "scrolled": true
   },
   "outputs": [
    {
     "data": {
      "text/plain": [
       "{'major': ['normal']}"
      ]
     },
     "execution_count": 51,
     "metadata": {},
     "output_type": "execute_result"
    }
   ],
   "source": [
    "get_mech_tags(parse_report(openi_reports/'1.xml'))"
   ]
  },
  {
   "cell_type": "code",
   "execution_count": 64,
   "metadata": {},
   "outputs": [
    {
     "data": {
      "text/plain": [
       "{'FINDINGS': 'The cardiac silhouette and mediastinum size are within normal limits. There is no pulmonary edema. There is no focal consolidation. There are no XXXX of a pleural effusion. There is no evidence of pneumothorax.',\n",
       " 'IMPRESSION': 'Normal chest x-XXXX.'}"
      ]
     },
     "execution_count": 64,
     "metadata": {},
     "output_type": "execute_result"
    }
   ],
   "source": [
    "get_abstract_fields(parse_report(openi_reports/'1.xml'), ['FINDINGS', 'IMPRESSION'])"
   ]
  },
  {
   "cell_type": "code",
   "execution_count": 63,
   "metadata": {},
   "outputs": [],
   "source": [
    "data = parse_dataset(openi_reports)"
   ]
  },
  {
   "cell_type": "code",
   "execution_count": 66,
   "metadata": {},
   "outputs": [
    {
     "data": {
      "text/html": [
       "<div>\n",
       "<style scoped>\n",
       "    .dataframe tbody tr th:only-of-type {\n",
       "        vertical-align: middle;\n",
       "    }\n",
       "\n",
       "    .dataframe tbody tr th {\n",
       "        vertical-align: top;\n",
       "    }\n",
       "\n",
       "    .dataframe thead th {\n",
       "        text-align: right;\n",
       "    }\n",
       "</style>\n",
       "<table border=\"1\" class=\"dataframe\">\n",
       "  <thead>\n",
       "    <tr style=\"text-align: right;\">\n",
       "      <th></th>\n",
       "      <th>FINDINGS</th>\n",
       "      <th>IMPRESSION</th>\n",
       "      <th>MeSH</th>\n",
       "      <th>LABEL</th>\n",
       "    </tr>\n",
       "  </thead>\n",
       "  <tbody>\n",
       "    <tr>\n",
       "      <th>0</th>\n",
       "      <td>The heart and mediastinum are unremarkable. Th...</td>\n",
       "      <td>1. No acute cardiopulmonary disease. 2. Acute ...</td>\n",
       "      <td>{'major': ['Calcified Granuloma/lung/upper lob...</td>\n",
       "      <td>1</td>\n",
       "    </tr>\n",
       "    <tr>\n",
       "      <th>1</th>\n",
       "      <td>The heart, pulmonary XXXX and mediastinum are ...</td>\n",
       "      <td>No acute cardiopulmonary disease.</td>\n",
       "      <td>{'major': ['Calcified Granuloma/multiple', 'Ca...</td>\n",
       "      <td>1</td>\n",
       "    </tr>\n",
       "    <tr>\n",
       "      <th>2</th>\n",
       "      <td>The heart is top normal in size. The mediastin...</td>\n",
       "      <td>No acute disease.</td>\n",
       "      <td>{'major': ['Atherosclerosis/aorta', 'Aorta/tor...</td>\n",
       "      <td>1</td>\n",
       "    </tr>\n",
       "    <tr>\n",
       "      <th>3</th>\n",
       "      <td>Heart size within normal limits. Trachea is mi...</td>\n",
       "      <td>No pulmonary nodules. Negative chest.</td>\n",
       "      <td>{'major': ['Lung/hypoinflation/mild']}</td>\n",
       "      <td>1</td>\n",
       "    </tr>\n",
       "    <tr>\n",
       "      <th>4</th>\n",
       "      <td>The cardiomediastinal silhouette and pulmonary...</td>\n",
       "      <td>1. Patchy left lower lobe airspace disease, co...</td>\n",
       "      <td>{'major': ['Opacity/lung/lower lobe/left/poste...</td>\n",
       "      <td>1</td>\n",
       "    </tr>\n",
       "  </tbody>\n",
       "</table>\n",
       "</div>"
      ],
      "text/plain": [
       "                                            FINDINGS  \\\n",
       "0  The heart and mediastinum are unremarkable. Th...   \n",
       "1  The heart, pulmonary XXXX and mediastinum are ...   \n",
       "2  The heart is top normal in size. The mediastin...   \n",
       "3  Heart size within normal limits. Trachea is mi...   \n",
       "4  The cardiomediastinal silhouette and pulmonary...   \n",
       "\n",
       "                                          IMPRESSION  \\\n",
       "0  1. No acute cardiopulmonary disease. 2. Acute ...   \n",
       "1                  No acute cardiopulmonary disease.   \n",
       "2                                  No acute disease.   \n",
       "3              No pulmonary nodules. Negative chest.   \n",
       "4  1. Patchy left lower lobe airspace disease, co...   \n",
       "\n",
       "                                                MeSH  LABEL  \n",
       "0  {'major': ['Calcified Granuloma/lung/upper lob...      1  \n",
       "1  {'major': ['Calcified Granuloma/multiple', 'Ca...      1  \n",
       "2  {'major': ['Atherosclerosis/aorta', 'Aorta/tor...      1  \n",
       "3             {'major': ['Lung/hypoinflation/mild']}      1  \n",
       "4  {'major': ['Opacity/lung/lower lobe/left/poste...      1  "
      ]
     },
     "execution_count": 66,
     "metadata": {},
     "output_type": "execute_result"
    }
   ],
   "source": [
    "data.head()"
   ]
  },
  {
   "cell_type": "code",
   "execution_count": null,
   "metadata": {},
   "outputs": [],
   "source": []
  }
 ],
 "metadata": {
  "kernelspec": {
   "display_name": "Python 3",
   "language": "python",
   "name": "python3"
  },
  "language_info": {
   "codemirror_mode": {
    "name": "ipython",
    "version": 3
   },
   "file_extension": ".py",
   "mimetype": "text/x-python",
   "name": "python",
   "nbconvert_exporter": "python",
   "pygments_lexer": "ipython3",
   "version": "3.6.9"
  }
 },
 "nbformat": 4,
 "nbformat_minor": 4
}
